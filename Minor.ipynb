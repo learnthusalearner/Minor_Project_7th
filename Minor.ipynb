{
  "nbformat": 4,
  "nbformat_minor": 0,
  "metadata": {
    "colab": {
      "provenance": [],
      "toc_visible": true,
      "gpuType": "T4",
      "authorship_tag": "ABX9TyNCLernxo3oZszFaemBZ/ZZ",
      "include_colab_link": true
    },
    "kernelspec": {
      "name": "python3",
      "display_name": "Python 3"
    },
    "language_info": {
      "name": "python"
    },
    "accelerator": "GPU",
    "widgets": {
      "application/vnd.jupyter.widget-state+json": {
        "7715d83f333345c0a47b72bb417d1d88": {
          "model_module": "@jupyter-widgets/controls",
          "model_name": "HBoxModel",
          "model_module_version": "1.5.0",
          "state": {
            "_dom_classes": [],
            "_model_module": "@jupyter-widgets/controls",
            "_model_module_version": "1.5.0",
            "_model_name": "HBoxModel",
            "_view_count": null,
            "_view_module": "@jupyter-widgets/controls",
            "_view_module_version": "1.5.0",
            "_view_name": "HBoxView",
            "box_style": "",
            "children": [
              "IPY_MODEL_c4b37a4dfb37463698b85f8fc23f19ef",
              "IPY_MODEL_e583424eb5b842cc8cfca301782df63c",
              "IPY_MODEL_f62d7fff01844323a24c8b2fa8a0d017"
            ],
            "layout": "IPY_MODEL_89ea864d76ed4eb2b56c0d3ceac38e06"
          }
        },
        "c4b37a4dfb37463698b85f8fc23f19ef": {
          "model_module": "@jupyter-widgets/controls",
          "model_name": "HTMLModel",
          "model_module_version": "1.5.0",
          "state": {
            "_dom_classes": [],
            "_model_module": "@jupyter-widgets/controls",
            "_model_module_version": "1.5.0",
            "_model_name": "HTMLModel",
            "_view_count": null,
            "_view_module": "@jupyter-widgets/controls",
            "_view_module_version": "1.5.0",
            "_view_name": "HTMLView",
            "description": "",
            "description_tooltip": null,
            "layout": "IPY_MODEL_05e7c3c64b1d429693999a4091e4e7bd",
            "placeholder": "​",
            "style": "IPY_MODEL_8d99f704386542b9a23163844533cbb9",
            "value": "Loading checkpoint shards: 100%"
          }
        },
        "e583424eb5b842cc8cfca301782df63c": {
          "model_module": "@jupyter-widgets/controls",
          "model_name": "FloatProgressModel",
          "model_module_version": "1.5.0",
          "state": {
            "_dom_classes": [],
            "_model_module": "@jupyter-widgets/controls",
            "_model_module_version": "1.5.0",
            "_model_name": "FloatProgressModel",
            "_view_count": null,
            "_view_module": "@jupyter-widgets/controls",
            "_view_module_version": "1.5.0",
            "_view_name": "ProgressView",
            "bar_style": "success",
            "description": "",
            "description_tooltip": null,
            "layout": "IPY_MODEL_7f1725d98ae343b4a5573f5f188ce745",
            "max": 2,
            "min": 0,
            "orientation": "horizontal",
            "style": "IPY_MODEL_ee4cfcb84fe24a86a34a1621719e8ad2",
            "value": 2
          }
        },
        "f62d7fff01844323a24c8b2fa8a0d017": {
          "model_module": "@jupyter-widgets/controls",
          "model_name": "HTMLModel",
          "model_module_version": "1.5.0",
          "state": {
            "_dom_classes": [],
            "_model_module": "@jupyter-widgets/controls",
            "_model_module_version": "1.5.0",
            "_model_name": "HTMLModel",
            "_view_count": null,
            "_view_module": "@jupyter-widgets/controls",
            "_view_module_version": "1.5.0",
            "_view_name": "HTMLView",
            "description": "",
            "description_tooltip": null,
            "layout": "IPY_MODEL_0bb3a5cfefce45c0bff8a56fbb0ba007",
            "placeholder": "​",
            "style": "IPY_MODEL_69c71926beff4bd0a52fc24387ab35ed",
            "value": " 2/2 [00:37&lt;00:00, 17.76s/it]"
          }
        },
        "89ea864d76ed4eb2b56c0d3ceac38e06": {
          "model_module": "@jupyter-widgets/base",
          "model_name": "LayoutModel",
          "model_module_version": "1.2.0",
          "state": {
            "_model_module": "@jupyter-widgets/base",
            "_model_module_version": "1.2.0",
            "_model_name": "LayoutModel",
            "_view_count": null,
            "_view_module": "@jupyter-widgets/base",
            "_view_module_version": "1.2.0",
            "_view_name": "LayoutView",
            "align_content": null,
            "align_items": null,
            "align_self": null,
            "border": null,
            "bottom": null,
            "display": null,
            "flex": null,
            "flex_flow": null,
            "grid_area": null,
            "grid_auto_columns": null,
            "grid_auto_flow": null,
            "grid_auto_rows": null,
            "grid_column": null,
            "grid_gap": null,
            "grid_row": null,
            "grid_template_areas": null,
            "grid_template_columns": null,
            "grid_template_rows": null,
            "height": null,
            "justify_content": null,
            "justify_items": null,
            "left": null,
            "margin": null,
            "max_height": null,
            "max_width": null,
            "min_height": null,
            "min_width": null,
            "object_fit": null,
            "object_position": null,
            "order": null,
            "overflow": null,
            "overflow_x": null,
            "overflow_y": null,
            "padding": null,
            "right": null,
            "top": null,
            "visibility": null,
            "width": null
          }
        },
        "05e7c3c64b1d429693999a4091e4e7bd": {
          "model_module": "@jupyter-widgets/base",
          "model_name": "LayoutModel",
          "model_module_version": "1.2.0",
          "state": {
            "_model_module": "@jupyter-widgets/base",
            "_model_module_version": "1.2.0",
            "_model_name": "LayoutModel",
            "_view_count": null,
            "_view_module": "@jupyter-widgets/base",
            "_view_module_version": "1.2.0",
            "_view_name": "LayoutView",
            "align_content": null,
            "align_items": null,
            "align_self": null,
            "border": null,
            "bottom": null,
            "display": null,
            "flex": null,
            "flex_flow": null,
            "grid_area": null,
            "grid_auto_columns": null,
            "grid_auto_flow": null,
            "grid_auto_rows": null,
            "grid_column": null,
            "grid_gap": null,
            "grid_row": null,
            "grid_template_areas": null,
            "grid_template_columns": null,
            "grid_template_rows": null,
            "height": null,
            "justify_content": null,
            "justify_items": null,
            "left": null,
            "margin": null,
            "max_height": null,
            "max_width": null,
            "min_height": null,
            "min_width": null,
            "object_fit": null,
            "object_position": null,
            "order": null,
            "overflow": null,
            "overflow_x": null,
            "overflow_y": null,
            "padding": null,
            "right": null,
            "top": null,
            "visibility": null,
            "width": null
          }
        },
        "8d99f704386542b9a23163844533cbb9": {
          "model_module": "@jupyter-widgets/controls",
          "model_name": "DescriptionStyleModel",
          "model_module_version": "1.5.0",
          "state": {
            "_model_module": "@jupyter-widgets/controls",
            "_model_module_version": "1.5.0",
            "_model_name": "DescriptionStyleModel",
            "_view_count": null,
            "_view_module": "@jupyter-widgets/base",
            "_view_module_version": "1.2.0",
            "_view_name": "StyleView",
            "description_width": ""
          }
        },
        "7f1725d98ae343b4a5573f5f188ce745": {
          "model_module": "@jupyter-widgets/base",
          "model_name": "LayoutModel",
          "model_module_version": "1.2.0",
          "state": {
            "_model_module": "@jupyter-widgets/base",
            "_model_module_version": "1.2.0",
            "_model_name": "LayoutModel",
            "_view_count": null,
            "_view_module": "@jupyter-widgets/base",
            "_view_module_version": "1.2.0",
            "_view_name": "LayoutView",
            "align_content": null,
            "align_items": null,
            "align_self": null,
            "border": null,
            "bottom": null,
            "display": null,
            "flex": null,
            "flex_flow": null,
            "grid_area": null,
            "grid_auto_columns": null,
            "grid_auto_flow": null,
            "grid_auto_rows": null,
            "grid_column": null,
            "grid_gap": null,
            "grid_row": null,
            "grid_template_areas": null,
            "grid_template_columns": null,
            "grid_template_rows": null,
            "height": null,
            "justify_content": null,
            "justify_items": null,
            "left": null,
            "margin": null,
            "max_height": null,
            "max_width": null,
            "min_height": null,
            "min_width": null,
            "object_fit": null,
            "object_position": null,
            "order": null,
            "overflow": null,
            "overflow_x": null,
            "overflow_y": null,
            "padding": null,
            "right": null,
            "top": null,
            "visibility": null,
            "width": null
          }
        },
        "ee4cfcb84fe24a86a34a1621719e8ad2": {
          "model_module": "@jupyter-widgets/controls",
          "model_name": "ProgressStyleModel",
          "model_module_version": "1.5.0",
          "state": {
            "_model_module": "@jupyter-widgets/controls",
            "_model_module_version": "1.5.0",
            "_model_name": "ProgressStyleModel",
            "_view_count": null,
            "_view_module": "@jupyter-widgets/base",
            "_view_module_version": "1.2.0",
            "_view_name": "StyleView",
            "bar_color": null,
            "description_width": ""
          }
        },
        "0bb3a5cfefce45c0bff8a56fbb0ba007": {
          "model_module": "@jupyter-widgets/base",
          "model_name": "LayoutModel",
          "model_module_version": "1.2.0",
          "state": {
            "_model_module": "@jupyter-widgets/base",
            "_model_module_version": "1.2.0",
            "_model_name": "LayoutModel",
            "_view_count": null,
            "_view_module": "@jupyter-widgets/base",
            "_view_module_version": "1.2.0",
            "_view_name": "LayoutView",
            "align_content": null,
            "align_items": null,
            "align_self": null,
            "border": null,
            "bottom": null,
            "display": null,
            "flex": null,
            "flex_flow": null,
            "grid_area": null,
            "grid_auto_columns": null,
            "grid_auto_flow": null,
            "grid_auto_rows": null,
            "grid_column": null,
            "grid_gap": null,
            "grid_row": null,
            "grid_template_areas": null,
            "grid_template_columns": null,
            "grid_template_rows": null,
            "height": null,
            "justify_content": null,
            "justify_items": null,
            "left": null,
            "margin": null,
            "max_height": null,
            "max_width": null,
            "min_height": null,
            "min_width": null,
            "object_fit": null,
            "object_position": null,
            "order": null,
            "overflow": null,
            "overflow_x": null,
            "overflow_y": null,
            "padding": null,
            "right": null,
            "top": null,
            "visibility": null,
            "width": null
          }
        },
        "69c71926beff4bd0a52fc24387ab35ed": {
          "model_module": "@jupyter-widgets/controls",
          "model_name": "DescriptionStyleModel",
          "model_module_version": "1.5.0",
          "state": {
            "_model_module": "@jupyter-widgets/controls",
            "_model_module_version": "1.5.0",
            "_model_name": "DescriptionStyleModel",
            "_view_count": null,
            "_view_module": "@jupyter-widgets/base",
            "_view_module_version": "1.2.0",
            "_view_name": "StyleView",
            "description_width": ""
          }
        }
      }
    }
  },
  "cells": [
    {
      "cell_type": "markdown",
      "metadata": {
        "id": "view-in-github",
        "colab_type": "text"
      },
      "source": [
        "<a href=\"https://colab.research.google.com/github/learnthusalearner/Minor_Project_7th/blob/main/Minor.ipynb\" target=\"_parent\"><img src=\"https://colab.research.google.com/assets/colab-badge.svg\" alt=\"Open In Colab\"/></a>"
      ]
    },
    {
      "cell_type": "code",
      "execution_count": 24,
      "metadata": {
        "colab": {
          "base_uri": "https://localhost:8080/"
        },
        "collapsed": true,
        "id": "s0xsDLCYsJ3X",
        "outputId": "168d7198-d4a7-45ed-f69c-41bc7efd6415"
      },
      "outputs": [
        {
          "output_type": "stream",
          "name": "stdout",
          "text": [
            "Requirement already satisfied: pandas in /usr/local/lib/python3.11/dist-packages (2.2.2)\n",
            "Requirement already satisfied: sentence-transformers in /usr/local/lib/python3.11/dist-packages (5.1.0)\n",
            "Requirement already satisfied: faiss-cpu in /usr/local/lib/python3.11/dist-packages (1.12.0)\n",
            "Requirement already satisfied: transformers in /usr/local/lib/python3.11/dist-packages (4.55.1)\n",
            "Requirement already satisfied: accelerate in /usr/local/lib/python3.11/dist-packages (1.10.0)\n",
            "Requirement already satisfied: bitsandbytes in /usr/local/lib/python3.11/dist-packages (0.47.0)\n",
            "Requirement already satisfied: gradio in /usr/local/lib/python3.11/dist-packages (5.42.0)\n",
            "Requirement already satisfied: pyngrok in /usr/local/lib/python3.11/dist-packages (7.3.0)\n",
            "Requirement already satisfied: numpy>=1.23.2 in /usr/local/lib/python3.11/dist-packages (from pandas) (2.0.2)\n",
            "Requirement already satisfied: python-dateutil>=2.8.2 in /usr/local/lib/python3.11/dist-packages (from pandas) (2.9.0.post0)\n",
            "Requirement already satisfied: pytz>=2020.1 in /usr/local/lib/python3.11/dist-packages (from pandas) (2025.2)\n",
            "Requirement already satisfied: tzdata>=2022.7 in /usr/local/lib/python3.11/dist-packages (from pandas) (2025.2)\n",
            "Requirement already satisfied: tqdm in /usr/local/lib/python3.11/dist-packages (from sentence-transformers) (4.67.1)\n",
            "Requirement already satisfied: torch>=1.11.0 in /usr/local/lib/python3.11/dist-packages (from sentence-transformers) (2.6.0+cu124)\n",
            "Requirement already satisfied: scikit-learn in /usr/local/lib/python3.11/dist-packages (from sentence-transformers) (1.6.1)\n",
            "Requirement already satisfied: scipy in /usr/local/lib/python3.11/dist-packages (from sentence-transformers) (1.16.1)\n",
            "Requirement already satisfied: huggingface-hub>=0.20.0 in /usr/local/lib/python3.11/dist-packages (from sentence-transformers) (0.34.4)\n",
            "Requirement already satisfied: Pillow in /usr/local/lib/python3.11/dist-packages (from sentence-transformers) (11.3.0)\n",
            "Requirement already satisfied: typing_extensions>=4.5.0 in /usr/local/lib/python3.11/dist-packages (from sentence-transformers) (4.14.1)\n",
            "Requirement already satisfied: packaging in /usr/local/lib/python3.11/dist-packages (from faiss-cpu) (25.0)\n",
            "Requirement already satisfied: filelock in /usr/local/lib/python3.11/dist-packages (from transformers) (3.18.0)\n",
            "Requirement already satisfied: pyyaml>=5.1 in /usr/local/lib/python3.11/dist-packages (from transformers) (6.0.2)\n",
            "Requirement already satisfied: regex!=2019.12.17 in /usr/local/lib/python3.11/dist-packages (from transformers) (2024.11.6)\n",
            "Requirement already satisfied: requests in /usr/local/lib/python3.11/dist-packages (from transformers) (2.32.3)\n",
            "Requirement already satisfied: tokenizers<0.22,>=0.21 in /usr/local/lib/python3.11/dist-packages (from transformers) (0.21.4)\n",
            "Requirement already satisfied: safetensors>=0.4.3 in /usr/local/lib/python3.11/dist-packages (from transformers) (0.6.2)\n",
            "Requirement already satisfied: psutil in /usr/local/lib/python3.11/dist-packages (from accelerate) (5.9.5)\n",
            "Requirement already satisfied: aiofiles<25.0,>=22.0 in /usr/local/lib/python3.11/dist-packages (from gradio) (24.1.0)\n",
            "Requirement already satisfied: anyio<5.0,>=3.0 in /usr/local/lib/python3.11/dist-packages (from gradio) (4.10.0)\n",
            "Requirement already satisfied: brotli>=1.1.0 in /usr/local/lib/python3.11/dist-packages (from gradio) (1.1.0)\n",
            "Requirement already satisfied: fastapi<1.0,>=0.115.2 in /usr/local/lib/python3.11/dist-packages (from gradio) (0.116.1)\n",
            "Requirement already satisfied: ffmpy in /usr/local/lib/python3.11/dist-packages (from gradio) (0.6.1)\n",
            "Requirement already satisfied: gradio-client==1.11.1 in /usr/local/lib/python3.11/dist-packages (from gradio) (1.11.1)\n",
            "Requirement already satisfied: groovy~=0.1 in /usr/local/lib/python3.11/dist-packages (from gradio) (0.1.2)\n",
            "Requirement already satisfied: httpx<1.0,>=0.24.1 in /usr/local/lib/python3.11/dist-packages (from gradio) (0.28.1)\n",
            "Requirement already satisfied: jinja2<4.0 in /usr/local/lib/python3.11/dist-packages (from gradio) (3.1.6)\n",
            "Requirement already satisfied: markupsafe<4.0,>=2.0 in /usr/local/lib/python3.11/dist-packages (from gradio) (3.0.2)\n",
            "Requirement already satisfied: orjson~=3.0 in /usr/local/lib/python3.11/dist-packages (from gradio) (3.11.2)\n",
            "Requirement already satisfied: pydantic<2.12,>=2.0 in /usr/local/lib/python3.11/dist-packages (from gradio) (2.11.7)\n",
            "Requirement already satisfied: pydub in /usr/local/lib/python3.11/dist-packages (from gradio) (0.25.1)\n",
            "Requirement already satisfied: python-multipart>=0.0.18 in /usr/local/lib/python3.11/dist-packages (from gradio) (0.0.20)\n",
            "Requirement already satisfied: ruff>=0.9.3 in /usr/local/lib/python3.11/dist-packages (from gradio) (0.12.8)\n",
            "Requirement already satisfied: safehttpx<0.2.0,>=0.1.6 in /usr/local/lib/python3.11/dist-packages (from gradio) (0.1.6)\n",
            "Requirement already satisfied: semantic-version~=2.0 in /usr/local/lib/python3.11/dist-packages (from gradio) (2.10.0)\n",
            "Requirement already satisfied: starlette<1.0,>=0.40.0 in /usr/local/lib/python3.11/dist-packages (from gradio) (0.47.2)\n",
            "Requirement already satisfied: tomlkit<0.14.0,>=0.12.0 in /usr/local/lib/python3.11/dist-packages (from gradio) (0.13.3)\n",
            "Requirement already satisfied: typer<1.0,>=0.12 in /usr/local/lib/python3.11/dist-packages (from gradio) (0.16.0)\n",
            "Requirement already satisfied: uvicorn>=0.14.0 in /usr/local/lib/python3.11/dist-packages (from gradio) (0.35.0)\n",
            "Requirement already satisfied: fsspec in /usr/local/lib/python3.11/dist-packages (from gradio-client==1.11.1->gradio) (2025.3.0)\n",
            "Requirement already satisfied: websockets<16.0,>=10.0 in /usr/local/lib/python3.11/dist-packages (from gradio-client==1.11.1->gradio) (15.0.1)\n",
            "Requirement already satisfied: idna>=2.8 in /usr/local/lib/python3.11/dist-packages (from anyio<5.0,>=3.0->gradio) (3.10)\n",
            "Requirement already satisfied: sniffio>=1.1 in /usr/local/lib/python3.11/dist-packages (from anyio<5.0,>=3.0->gradio) (1.3.1)\n",
            "Requirement already satisfied: certifi in /usr/local/lib/python3.11/dist-packages (from httpx<1.0,>=0.24.1->gradio) (2025.8.3)\n",
            "Requirement already satisfied: httpcore==1.* in /usr/local/lib/python3.11/dist-packages (from httpx<1.0,>=0.24.1->gradio) (1.0.9)\n",
            "Requirement already satisfied: h11>=0.16 in /usr/local/lib/python3.11/dist-packages (from httpcore==1.*->httpx<1.0,>=0.24.1->gradio) (0.16.0)\n",
            "Requirement already satisfied: hf-xet<2.0.0,>=1.1.3 in /usr/local/lib/python3.11/dist-packages (from huggingface-hub>=0.20.0->sentence-transformers) (1.1.7)\n",
            "Requirement already satisfied: annotated-types>=0.6.0 in /usr/local/lib/python3.11/dist-packages (from pydantic<2.12,>=2.0->gradio) (0.7.0)\n",
            "Requirement already satisfied: pydantic-core==2.33.2 in /usr/local/lib/python3.11/dist-packages (from pydantic<2.12,>=2.0->gradio) (2.33.2)\n",
            "Requirement already satisfied: typing-inspection>=0.4.0 in /usr/local/lib/python3.11/dist-packages (from pydantic<2.12,>=2.0->gradio) (0.4.1)\n",
            "Requirement already satisfied: six>=1.5 in /usr/local/lib/python3.11/dist-packages (from python-dateutil>=2.8.2->pandas) (1.17.0)\n",
            "Requirement already satisfied: networkx in /usr/local/lib/python3.11/dist-packages (from torch>=1.11.0->sentence-transformers) (3.5)\n",
            "Requirement already satisfied: nvidia-cuda-nvrtc-cu12==12.4.127 in /usr/local/lib/python3.11/dist-packages (from torch>=1.11.0->sentence-transformers) (12.4.127)\n",
            "Requirement already satisfied: nvidia-cuda-runtime-cu12==12.4.127 in /usr/local/lib/python3.11/dist-packages (from torch>=1.11.0->sentence-transformers) (12.4.127)\n",
            "Requirement already satisfied: nvidia-cuda-cupti-cu12==12.4.127 in /usr/local/lib/python3.11/dist-packages (from torch>=1.11.0->sentence-transformers) (12.4.127)\n",
            "Requirement already satisfied: nvidia-cudnn-cu12==9.1.0.70 in /usr/local/lib/python3.11/dist-packages (from torch>=1.11.0->sentence-transformers) (9.1.0.70)\n",
            "Requirement already satisfied: nvidia-cublas-cu12==12.4.5.8 in /usr/local/lib/python3.11/dist-packages (from torch>=1.11.0->sentence-transformers) (12.4.5.8)\n",
            "Requirement already satisfied: nvidia-cufft-cu12==11.2.1.3 in /usr/local/lib/python3.11/dist-packages (from torch>=1.11.0->sentence-transformers) (11.2.1.3)\n",
            "Requirement already satisfied: nvidia-curand-cu12==10.3.5.147 in /usr/local/lib/python3.11/dist-packages (from torch>=1.11.0->sentence-transformers) (10.3.5.147)\n",
            "Requirement already satisfied: nvidia-cusolver-cu12==11.6.1.9 in /usr/local/lib/python3.11/dist-packages (from torch>=1.11.0->sentence-transformers) (11.6.1.9)\n",
            "Requirement already satisfied: nvidia-cusparse-cu12==12.3.1.170 in /usr/local/lib/python3.11/dist-packages (from torch>=1.11.0->sentence-transformers) (12.3.1.170)\n",
            "Requirement already satisfied: nvidia-cusparselt-cu12==0.6.2 in /usr/local/lib/python3.11/dist-packages (from torch>=1.11.0->sentence-transformers) (0.6.2)\n",
            "Requirement already satisfied: nvidia-nccl-cu12==2.21.5 in /usr/local/lib/python3.11/dist-packages (from torch>=1.11.0->sentence-transformers) (2.21.5)\n",
            "Requirement already satisfied: nvidia-nvtx-cu12==12.4.127 in /usr/local/lib/python3.11/dist-packages (from torch>=1.11.0->sentence-transformers) (12.4.127)\n",
            "Requirement already satisfied: nvidia-nvjitlink-cu12==12.4.127 in /usr/local/lib/python3.11/dist-packages (from torch>=1.11.0->sentence-transformers) (12.4.127)\n",
            "Requirement already satisfied: triton==3.2.0 in /usr/local/lib/python3.11/dist-packages (from torch>=1.11.0->sentence-transformers) (3.2.0)\n",
            "Requirement already satisfied: sympy==1.13.1 in /usr/local/lib/python3.11/dist-packages (from torch>=1.11.0->sentence-transformers) (1.13.1)\n",
            "Requirement already satisfied: mpmath<1.4,>=1.1.0 in /usr/local/lib/python3.11/dist-packages (from sympy==1.13.1->torch>=1.11.0->sentence-transformers) (1.3.0)\n",
            "Requirement already satisfied: click>=8.0.0 in /usr/local/lib/python3.11/dist-packages (from typer<1.0,>=0.12->gradio) (8.2.1)\n",
            "Requirement already satisfied: shellingham>=1.3.0 in /usr/local/lib/python3.11/dist-packages (from typer<1.0,>=0.12->gradio) (1.5.4)\n",
            "Requirement already satisfied: rich>=10.11.0 in /usr/local/lib/python3.11/dist-packages (from typer<1.0,>=0.12->gradio) (13.9.4)\n",
            "Requirement already satisfied: charset-normalizer<4,>=2 in /usr/local/lib/python3.11/dist-packages (from requests->transformers) (3.4.3)\n",
            "Requirement already satisfied: urllib3<3,>=1.21.1 in /usr/local/lib/python3.11/dist-packages (from requests->transformers) (2.5.0)\n",
            "Requirement already satisfied: joblib>=1.2.0 in /usr/local/lib/python3.11/dist-packages (from scikit-learn->sentence-transformers) (1.5.1)\n",
            "Requirement already satisfied: threadpoolctl>=3.1.0 in /usr/local/lib/python3.11/dist-packages (from scikit-learn->sentence-transformers) (3.6.0)\n",
            "Requirement already satisfied: markdown-it-py>=2.2.0 in /usr/local/lib/python3.11/dist-packages (from rich>=10.11.0->typer<1.0,>=0.12->gradio) (4.0.0)\n",
            "Requirement already satisfied: pygments<3.0.0,>=2.13.0 in /usr/local/lib/python3.11/dist-packages (from rich>=10.11.0->typer<1.0,>=0.12->gradio) (2.19.2)\n",
            "Requirement already satisfied: mdurl~=0.1 in /usr/local/lib/python3.11/dist-packages (from markdown-it-py>=2.2.0->rich>=10.11.0->typer<1.0,>=0.12->gradio) (0.1.2)\n"
          ]
        }
      ],
      "source": [
        "!pip install pandas sentence-transformers faiss-cpu transformers accelerate bitsandbytes gradio pyngrok\n"
      ]
    },
    {
      "cell_type": "code",
      "source": [],
      "metadata": {
        "id": "u5NtC0ZWzeLY"
      },
      "execution_count": null,
      "outputs": []
    },
    {
      "cell_type": "code",
      "source": [
        "import pandas as pd\n",
        "import faiss\n",
        "from sentence_transformers import SentenceTransformer\n",
        "from transformers import AutoTokenizer, AutoModelForCausalLM, pipeline\n",
        "import torch\n",
        "import gradio as gr\n",
        "from pyngrok import ngrok\n",
        "from google.colab import userdata"
      ],
      "metadata": {
        "id": "LKs1gKW2shEl"
      },
      "execution_count": 25,
      "outputs": []
    },
    {
      "cell_type": "code",
      "source": [
        "csv_file = \"/content/sample_data/gita.csv\"   # <-- your file\n",
        "df = pd.read_csv(csv_file)\n",
        "df[\"text\"] = df.fillna(\"\").astype(str).agg(\" \".join, axis=1)"
      ],
      "metadata": {
        "id": "Dhs2fmehslel"
      },
      "execution_count": 26,
      "outputs": []
    },
    {
      "cell_type": "code",
      "source": [
        "def chunk_text(s, size=500):\n",
        "    return [s[i:i+size] for i in range(0, len(s), size)]\n",
        "\n",
        "chunks = []\n",
        "for i, row in df.iterrows():\n",
        "    for c in chunk_text(row[\"text\"]):\n",
        "        chunks.append(c)\n",
        "\n",
        "print(f\"✅ Total text chunks: {len(chunks)}\")"
      ],
      "metadata": {
        "colab": {
          "base_uri": "https://localhost:8080/"
        },
        "id": "kegkt3ZPspoe",
        "outputId": "2a49b8cf-fad7-4f29-ad04-9447be02d7d4"
      },
      "execution_count": 27,
      "outputs": [
        {
          "output_type": "stream",
          "name": "stdout",
          "text": [
            "✅ Total text chunks: 4303\n"
          ]
        }
      ]
    },
    {
      "cell_type": "code",
      "source": [
        "embedder = SentenceTransformer(\"all-MiniLM-L6-v2\")\n",
        "embs = embedder.encode(chunks, convert_to_numpy=True)\n",
        "\n",
        "dim = embs.shape[1]\n",
        "index = faiss.IndexFlatL2(dim)\n",
        "index.add(embs)\n",
        "\n",
        "print(\"✅ FAISS index ready!\")"
      ],
      "metadata": {
        "colab": {
          "base_uri": "https://localhost:8080/"
        },
        "id": "kRBRVJnosrVq",
        "outputId": "cdfb95eb-bf5d-43ec-e548-6b49f5168061"
      },
      "execution_count": 28,
      "outputs": [
        {
          "output_type": "stream",
          "name": "stdout",
          "text": [
            "✅ FAISS index ready!\n"
          ]
        }
      ]
    },
    {
      "cell_type": "code",
      "source": [
        "def retrieve(query, k=5):  # use more chunks\n",
        "    q_emb = embedder.encode([query], convert_to_numpy=True)\n",
        "    D, I = index.search(q_emb, k)\n",
        "    return [chunks[i] for i in I[0]]"
      ],
      "metadata": {
        "id": "Fq9WXFJfs1Pm"
      },
      "execution_count": 29,
      "outputs": []
    },
    {
      "cell_type": "code",
      "source": [
        "from transformers import BitsAndBytesConfig\n",
        "\n",
        "model_id = \"microsoft/Phi-3-mini-4k-instruct\"\n",
        "\n",
        "# Quantization config (replaces load_in_4bit)\n",
        "bnb_config = BitsAndBytesConfig(\n",
        "    load_in_4bit=True,\n",
        "    bnb_4bit_quant_type=\"nf4\",\n",
        "    bnb_4bit_use_double_quant=True,\n",
        "    bnb_4bit_compute_dtype=torch.float16\n",
        ")\n",
        "\n",
        "tokenizer = AutoTokenizer.from_pretrained(model_id)\n",
        "llm = AutoModelForCausalLM.from_pretrained(\n",
        "    model_id,\n",
        "    device_map=\"auto\",\n",
        "    torch_dtype=torch.float16,\n",
        "    quantization_config=bnb_config\n",
        ")\n",
        "\n",
        "# ✅ Don't set device here because accelerate already placed it\n",
        "chatbot = pipeline(\n",
        "    \"text-generation\",\n",
        "    model=llm,\n",
        "    tokenizer=tokenizer\n",
        ")"
      ],
      "metadata": {
        "colab": {
          "base_uri": "https://localhost:8080/",
          "height": 66,
          "referenced_widgets": [
            "7715d83f333345c0a47b72bb417d1d88",
            "c4b37a4dfb37463698b85f8fc23f19ef",
            "e583424eb5b842cc8cfca301782df63c",
            "f62d7fff01844323a24c8b2fa8a0d017",
            "89ea864d76ed4eb2b56c0d3ceac38e06",
            "05e7c3c64b1d429693999a4091e4e7bd",
            "8d99f704386542b9a23163844533cbb9",
            "7f1725d98ae343b4a5573f5f188ce745",
            "ee4cfcb84fe24a86a34a1621719e8ad2",
            "0bb3a5cfefce45c0bff8a56fbb0ba007",
            "69c71926beff4bd0a52fc24387ab35ed"
          ]
        },
        "id": "iYHV1raKss2-",
        "outputId": "93118edd-c538-41c9-ea64-39146f6d57b0"
      },
      "execution_count": 34,
      "outputs": [
        {
          "output_type": "display_data",
          "data": {
            "text/plain": [
              "Loading checkpoint shards:   0%|          | 0/2 [00:00<?, ?it/s]"
            ],
            "application/vnd.jupyter.widget-view+json": {
              "version_major": 2,
              "version_minor": 0,
              "model_id": "7715d83f333345c0a47b72bb417d1d88"
            }
          },
          "metadata": {}
        },
        {
          "output_type": "stream",
          "name": "stderr",
          "text": [
            "Device set to use cuda:0\n"
          ]
        }
      ]
    },
    {
      "cell_type": "code",
      "source": [
        "def ask_csv(query, history=[]):\n",
        "    context = \"\\n\".join(retrieve(query))\n",
        "    prompt = f\"\"\"\n",
        "You are Lord Krishna, speaking only in the style of the Bhagavad Gita.\n",
        "Answer briefly (3-5 sentences), with compassion and clarity.\n",
        "Do NOT invent information — use only the context below.\n",
        "If unsure, say: \"I do not know, but seek within, and clarity shall arise.\"\n",
        "\n",
        "Context:\n",
        "{context}\n",
        "\n",
        "Arjuna's Question: {query}\n",
        "Krishna's Guidance:\"\"\"\n",
        "\n",
        "    out = chatbot(prompt, max_new_tokens=200, do_sample=False, temperature=0.2, top_p=0.9)\n",
        "    answer = out[0][\"generated_text\"].split(\"Krishna's Guidance:\")[-1].strip()\n",
        "    return answer\n"
      ],
      "metadata": {
        "id": "4GbEM5aHs-ui"
      },
      "execution_count": 46,
      "outputs": []
    },
    {
      "cell_type": "code",
      "source": [
        "with gr.Blocks() as demo:\n",
        "    gr.Markdown(\"# 📊 CSV Chatbot (Free LLM + GPU)\")\n",
        "    chatbot_ui = gr.ChatInterface(chat_fn)\n",
        "\n",
        "ngrok_auth_token = userdata.get(\"NGROK_AUTH_TOKEN\")\n",
        "ngrok.set_auth_token(ngrok_auth_token)"
      ],
      "metadata": {
        "colab": {
          "base_uri": "https://localhost:8080/"
        },
        "id": "levQfX6KtBCM",
        "outputId": "3529d343-473f-4aee-ebf2-4f4f6273f443"
      },
      "execution_count": 47,
      "outputs": [
        {
          "output_type": "stream",
          "name": "stderr",
          "text": [
            "/usr/local/lib/python3.11/dist-packages/gradio/chat_interface.py:345: UserWarning: The 'tuples' format for chatbot messages is deprecated and will be removed in a future version of Gradio. Please set type='messages' instead, which uses openai-style 'role' and 'content' keys.\n",
            "  self.chatbot = Chatbot(\n"
          ]
        }
      ]
    },
    {
      "cell_type": "code",
      "source": [
        "app = FastAPI()\n",
        "\n",
        "class QueryRequest(BaseModel):\n",
        "    question: str\n",
        "\n",
        "@app.post(\"/ask\")\n",
        "def ask_endpoint(req: QueryRequest):\n",
        "    answer = ask_csv(req.question)\n",
        "    return {\"question\": req.question, \"answer\": answer}\n"
      ],
      "metadata": {
        "id": "BLo8UOJNtDAY"
      },
      "execution_count": 53,
      "outputs": []
    },
    {
      "source": [
        "nest_asyncio.apply()  # Needed for Colab notebooks\n",
        "\n",
        "def run_fastapi():\n",
        "    uvicorn.run(app, host=\"0.0.0.0\", port=PORT)\n",
        "\n",
        "# Run FastAPI in background thread\n",
        "threading.Thread(target=run_fastapi, daemon=True).start()\n"
      ],
      "cell_type": "code",
      "metadata": {
        "id": "aghHkUjPw_kx"
      },
      "execution_count": 56,
      "outputs": []
    },
    {
      "cell_type": "code",
      "source": [
        "from pyngrok import ngrok\n",
        "from fastapi import FastAPI\n",
        "from fastapi.responses import JSONResponse\n",
        "import uvicorn\n",
        "import gradio as gr\n",
        "\n",
        "# ✅ FastAPI app\n",
        "app = FastAPI()\n",
        "\n",
        "# ✅ API endpoint for chatbot\n",
        "@app.get(\"/ask\")\n",
        "def ask_endpoint(q: str):\n",
        "    answer = ask_csv(q)\n",
        "    return JSONResponse({\"query\": q, \"answer\": answer})\n",
        "\n",
        "# ✅ Mount Gradio UI at /ui\n",
        "app = gr.mount_gradio_app(app, demo, path=\"/ui\")\n",
        "\n",
        "# ✅ Ngrok tunnel\n",
        "ngrok.kill()\n",
        "public_url = ngrok.connect(1111)\n",
        "print(\"🌍 Public URL:\", public_url.public_url)\n",
        "print(\"📡 API endpoint:\", public_url.public_url + \"/ask?q=What is dharma?\")\n",
        "print(\"🎨 Gradio UI:\", public_url.public_url + \"/ui\")\n",
        "\n",
        "# ✅ Run server\n",
        "uvicorn.run(app, host=\"0.0.0.0\", port=1111)\n"
      ],
      "metadata": {
        "colab": {
          "base_uri": "https://localhost:8080/"
        },
        "id": "D_JWH7636yC4",
        "outputId": "4cc4c2ae-c3d7-4f49-c66d-b0518cf28229"
      },
      "execution_count": null,
      "outputs": [
        {
          "output_type": "stream",
          "name": "stdout",
          "text": [
            "🌍 Public URL: https://43e7dd63c1f9.ngrok-free.app\n",
            "📡 API endpoint: https://43e7dd63c1f9.ngrok-free.app/ask?q=What is dharma?\n",
            "🎨 Gradio UI: https://43e7dd63c1f9.ngrok-free.app/ui\n"
          ]
        },
        {
          "output_type": "stream",
          "name": "stderr",
          "text": [
            "INFO:     Started server process [549]\n",
            "INFO:     Waiting for application startup.\n",
            "INFO:     Application startup complete.\n",
            "INFO:     Uvicorn running on http://0.0.0.0:1111 (Press CTRL+C to quit)\n"
          ]
        },
        {
          "output_type": "stream",
          "name": "stdout",
          "text": [
            "INFO:     103.161.223.11:0 - \"GET /ui HTTP/1.1\" 307 Temporary Redirect\n",
            "INFO:     103.161.223.11:0 - \"GET /ui/ HTTP/1.1\" 200 OK\n",
            "INFO:     103.161.223.11:0 - \"GET /ui/assets/index-BIiu1kG0.css HTTP/1.1\" 200 OK\n",
            "INFO:     103.161.223.11:0 - \"GET /ui/assets/index-C1MLra31.js HTTP/1.1\" 200 OK\n",
            "INFO:     103.161.223.11:0 - \"GET /ui/assets/svelte/svelte.js HTTP/1.1\" 200 OK\n",
            "INFO:     103.161.223.11:0 - \"GET /ui/assets/Index-C6djDJnG.js HTTP/1.1\" 200 OK\n",
            "INFO:     103.161.223.11:0 - \"GET /ui/assets/prism-python-Dl7Tytau.js HTTP/1.1\" 200 OK\n",
            "INFO:     103.161.223.11:0 - \"GET /ui/assets/MarkdownCode-xMSYSvAD.css HTTP/1.1\" 200 OK\n",
            "INFO:     103.106.200.60:0 - \"GET /ui/ HTTP/1.1\" 200 OK\n",
            "INFO:     103.161.223.11:0 - \"GET /ui/assets/IconButton-BYr8xyoS.js HTTP/1.1\" 200 OK\n",
            "INFO:     103.161.223.11:0 - \"GET /ui/assets/StreamingBar.svelte_svelte_type_style_lang-DyfAPhwM.js HTTP/1.1\" 200 OK\n",
            "INFO:     103.161.223.11:0 - \"GET /ui/assets/DownloadLink-CqD3Uu0l.css HTTP/1.1\" 200 OK\n",
            "INFO:     103.161.223.11:0 - \"GET /ui/assets/StreamingBar-pGVW9eBG.css HTTP/1.1\" 200 OK\n",
            "INFO:     103.161.223.11:0 - \"GET /ui/assets/IconButtonWrapper-BRVjgMlQ.css HTTP/1.1\" 200 OK\n",
            "INFO:     103.161.223.11:0 - \"GET /ui/assets/index-Cdg2LH6_.js HTTP/1.1\" 200 OK\n",
            "INFO:     103.161.223.11:0 - \"GET /ui/assets/Embed-4IcRP6Of.js HTTP/1.1\" 200 OK\n",
            "INFO:     103.161.223.11:0 - \"GET /ui/assets/MarkdownCode.svelte_svelte_type_style_lang-DEkfERZI.js HTTP/1.1\" 200 OK\n",
            "INFO:     103.161.223.11:0 - \"GET /ui/assets/DownloadLink.svelte_svelte_type_style_lang-C_5UIfol.js HTTP/1.1\" 200 OK\n",
            "INFO:     103.161.223.11:0 - \"GET /ui/assets/Index-BJ_RfjVB.css HTTP/1.1\" 200 OK\n",
            "INFO:     103.161.223.11:0 - \"GET /ui/assets/Clear-By3xiIwg.js HTTP/1.1\" 200 OK\n",
            "INFO:     103.161.223.11:0 - \"GET /ui/theme.css?v=dcc5ba6daa59190cd89158b9dcd638cb327c8d2793466af78361ece68e126118 HTTP/1.1\" 200 OK\n",
            "INFO:     103.161.223.11:0 - \"GET /ui/assets/Blocks-B6OQoqZ7.css HTTP/1.1\" 200 OK\n",
            "INFO:     103.161.223.11:0 - \"GET /ui/gradio_api/heartbeat/h1gz5gc315 HTTP/1.1\" 200 OK\n",
            "INFO:     103.161.223.11:0 - \"GET /favicon.ico HTTP/1.1\" 404 Not Found\n",
            "INFO:     103.161.223.11:0 - \"GET /ui/assets/Toast-BFd1GcKp.js HTTP/1.1\" 200 OK\n",
            "INFO:     103.161.223.11:0 - \"GET /ui/assets/Blocks-B7qqWJ2Y.js HTTP/1.1\" 200 OK\n",
            "INFO:     103.161.223.11:0 - \"GET /ui/assets/utils-BsGrhMNe.js HTTP/1.1\" 200 OK\n",
            "INFO:     103.161.223.11:0 - \"GET /ui/assets/index-Lv-EPzbm.js HTTP/1.1\" 200 OK\n",
            "INFO:     103.161.223.11:0 - \"GET /ui/static/fonts/IBMPlexMono/IBMPlexMono-Regular.woff2 HTTP/1.1\" 200 OK\n",
            "INFO:     103.161.223.11:0 - \"GET /ui/assets/Index-BgMzUQxf.js HTTP/1.1\" 200 OK\n",
            "INFO:     103.161.223.11:0 - \"GET /ui/assets/Check-CEkiXcyC.js HTTP/1.1\" 200 OK\n",
            "INFO:     103.161.223.11:0 - \"GET /ui/assets/Copy-CxQ9EyK2.js HTTP/1.1\" 200 OK\n",
            "INFO:     103.161.223.11:0 - \"GET /ui/assets/MarkdownCode-DF-ZVGvG.js HTTP/1.1\" 200 OK\n",
            "INFO:     103.161.223.11:0 - \"GET /ui/assets/Index-j1qw_DnL.js HTTP/1.1\" 200 OK\n",
            "INFO:     103.161.223.11:0 - \"GET /ui/assets/Index-BTXaMQgd.css HTTP/1.1\" 200 OK\n",
            "INFO:     103.161.223.11:0 - \"GET /ui/assets/Index-uRgjJb4U.js HTTP/1.1\" 200 OK\n",
            "INFO:     103.161.223.11:0 - \"GET /ui/assets/IconButtonWrapper-BGXYrwVF.js HTTP/1.1\" 200 OK\n",
            "INFO:     103.161.223.11:0 - \"GET /ui/assets/BlockLabel-BBGJEuAL.js HTTP/1.1\" 200 OK\n",
            "INFO:     103.161.223.11:0 - \"GET /ui/assets/Example-BdAjEacD.js HTTP/1.1\" 200 OK\n",
            "INFO:     103.161.223.11:0 - \"GET /ui/assets/Square-oAGqOwsh.js HTTP/1.1\" 200 OK\n",
            "INFO:     103.161.223.11:0 - \"GET /ui/assets/Example-D7K5RtQ2.css HTTP/1.1\" 200 OK\n",
            "INFO:     103.161.223.11:0 - \"GET /ui/assets/Index-Cgj6KPvj.css HTTP/1.1\" 200 OK\n",
            "INFO:     103.161.223.11:0 - \"GET /ui/assets/Textbox-jWD3sCxr.css HTTP/1.1\" 200 OK\n",
            "INFO:     103.161.223.11:0 - \"GET /ui/assets/Trash-RbZEwH-j.js HTTP/1.1\" 200 OK\n",
            "INFO:     103.161.223.11:0 - \"GET /ui/assets/Index-D-5U5m91.css HTTP/1.1\" 200 OK\n",
            "INFO:     103.161.223.11:0 - \"GET /ui/assets/file-url-DoxvUUVV.js HTTP/1.1\" 200 OK\n",
            "INFO:     103.161.223.11:0 - \"GET /ui/assets/index-CnqicUFC.js HTTP/1.1\" 200 OK\n",
            "INFO:     103.161.223.11:0 - \"GET /ui/assets/ImagePreview-C_qhEOxI.css HTTP/1.1\" 200 OK\n",
            "INFO:     103.161.223.11:0 - \"GET /ui/assets/Index-BWwL_al9.js HTTP/1.1\" 200 OK\n",
            "INFO:     103.161.223.11:0 - \"GET /ui/assets/Index-rX6M_998.css HTTP/1.1\" 200 OK\n",
            "INFO:     103.161.223.11:0 - \"GET /ui/assets/Index-Db6KvEov.js HTTP/1.1\" 200 OK\n",
            "INFO:     103.161.223.11:0 - \"GET /ui/assets/Block-BPual4nE.js HTTP/1.1\" 200 OK\n",
            "INFO:     103.161.223.11:0 - \"GET /ui/assets/Index-whOZPN-e.js HTTP/1.1\" 200 OK\n",
            "INFO:     103.161.223.11:0 - \"GET /ui/assets/Example-ClKJOMGh.css HTTP/1.1\" 200 OK\n",
            "INFO:     103.161.223.11:0 - \"GET /ui/assets/Index-29ZM9Pcb.js HTTP/1.1\" 200 OK\n",
            "INFO:     103.161.223.11:0 - \"GET /ui/assets/BlockTitle-CbYIyvZV.js HTTP/1.1\" 200 OK\n",
            "INFO:     103.161.223.11:0 - \"GET /ui/assets/File-BQ_9P3Ye.js HTTP/1.1\" 200 OK\n",
            "INFO:     103.161.223.11:0 - \"GET /ui/assets/Community-Dw1micSV.js HTTP/1.1\" 200 OK\n",
            "INFO:     103.161.223.11:0 - \"GET /ui/assets/Index-WEzAIkMk.js HTTP/1.1\" 200 OK\n",
            "INFO:     103.161.223.11:0 - \"GET /ui/assets/Send-DyoOovnk.js HTTP/1.1\" 200 OK\n",
            "INFO:     103.161.223.11:0 - \"GET /ui/assets/Index-12OnbRhk.css HTTP/1.1\" 200 OK\n",
            "INFO:     103.161.223.11:0 - \"GET /ui/assets/Edit-BpRIf5rU.js HTTP/1.1\" 200 OK\n",
            "INFO:     103.161.223.11:0 - \"GET /ui/assets/Image-CnqB5dbD.js HTTP/1.1\" 200 OK\n",
            "INFO:     103.161.223.11:0 - \"GET /ui/assets/Image-B8dFOee4.css HTTP/1.1\" 200 OK\n",
            "INFO:     103.161.223.11:0 - \"GET /ui/assets/Example-g8G2OJF4.js HTTP/1.1\" 200 OK\n",
            "INFO:     103.161.223.11:0 - \"GET /ui/assets/__vite-browser-external-D7Ct-6yo.js HTTP/1.1\" 200 OK\n",
            "INFO:     103.161.223.11:0 - \"GET /ui/assets/Info-CKG-PStk.js HTTP/1.1\" 200 OK\n",
            "INFO:     103.161.223.11:0 - \"GET /ui/assets/Music-CDm0RGMk.js HTTP/1.1\" 200 OK\n",
            "INFO:     103.161.223.11:0 - \"GET /ui/assets/Textbox-NBB1Iy6g.js HTTP/1.1\" 200 OK\n",
            "INFO:     103.161.223.11:0 - \"GET /ui/assets/Undo-DCjBnnSO.js HTTP/1.1\" 200 OK\n",
            "INFO:     103.161.223.11:0 - \"GET /ui/assets/Index-CfowPFmo.css HTTP/1.1\" 200 OK\n",
            "INFO:     103.161.223.11:0 - \"GET /ui/assets/Index-DE1Sah7F.js HTTP/1.1\" 200 OK\n"
          ]
        },
        {
          "output_type": "stream",
          "name": "stderr",
          "text": [
            "The following generation flags are not valid and may be ignored: ['temperature', 'top_p']. Set `TRANSFORMERS_VERBOSITY=info` for more details.\n"
          ]
        },
        {
          "output_type": "stream",
          "name": "stdout",
          "text": [
            "INFO:     103.161.223.11:0 - \"GET /ask?q=What%20is%20dharma? HTTP/1.1\" 200 OK\n"
          ]
        },
        {
          "output_type": "stream",
          "name": "stderr",
          "text": [
            "You seem to be using the pipelines sequentially on GPU. In order to maximize efficiency please use a dataset\n",
            "The following generation flags are not valid and may be ignored: ['temperature', 'top_p']. Set `TRANSFORMERS_VERBOSITY=info` for more details.\n"
          ]
        },
        {
          "output_type": "stream",
          "name": "stdout",
          "text": [
            "INFO:     103.106.200.60:0 - \"GET /ask?q=What%20is%20dharma? HTTP/1.1\" 200 OK\n"
          ]
        }
      ]
    }
  ]
}